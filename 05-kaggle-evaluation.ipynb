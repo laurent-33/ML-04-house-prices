{
 "cells": [
  {
   "cell_type": "code",
   "execution_count": 10,
   "metadata": {},
   "outputs": [],
   "source": [
    "import kaggle"
   ]
  },
  {
   "cell_type": "markdown",
   "metadata": {},
   "source": [
    "# Envoi du fichier final et récupération du résultat"
   ]
  },
  {
   "cell_type": "code",
   "execution_count": 11,
   "metadata": {},
   "outputs": [],
   "source": [
    "competition = 'house-prices-advanced-regression-techniques'"
   ]
  },
  {
   "cell_type": "code",
   "execution_count": 12,
   "metadata": {},
   "outputs": [
    {
     "name": "stderr",
     "output_type": "stream",
     "text": [
      "100%|██████████████████████████████████████████████████████████████████████████████████████████████████████████████████████████████████████████████████████████████████████| 26.2k/26.2k [00:05<00:00, 5.00kB/s]\n"
     ]
    },
    {
     "data": {
      "text/plain": [
       "Successfully submitted to House Prices: Advanced Regression Techniques"
      ]
     },
     "execution_count": 12,
     "metadata": {},
     "output_type": "execute_result"
    }
   ],
   "source": [
    "submission_file = \"test_predict.csv\"\n",
    "kaggle.api.competition_submit(submission_file, \"01-R-randomforest\", competition)"
   ]
  },
  {
   "cell_type": "code",
   "execution_count": 13,
   "metadata": {},
   "outputs": [
    {
     "data": {
      "text/plain": [
       "[{'date': '2019-11-27T22:15:26.043Z',\n",
       "  'description': '01-R-randomforest',\n",
       "  'errorDescription': \"ERROR: Could not parse 'NA' into expected type of Double (Line 86, Column 8)\\nERROR: Could not parse 'NA' into expected type of Double (Line 558, Column 8)\\nERROR: Could not parse 'NA' into expected type of Double (Line 823, Column 8)\\nERROR: Could not parse 'NA' into expected type of Double (Line 891, Column 8)\\n\",\n",
       "  'fileName': 'test_predict.csv',\n",
       "  'privateScore': None,\n",
       "  'publicScore': None,\n",
       "  'ref': 13522607,\n",
       "  'status': 'error',\n",
       "  'submittedBy': 'laurent33',\n",
       "  'submittedByRef': 'laurent33',\n",
       "  'teamName': 'laurent33',\n",
       "  'totalBytes': 26797,\n",
       "  'type': 'standard',\n",
       "  'url': 'https://www.kaggle.com/submissions/13522607/13522607.raw'},\n",
       " {'date': '2019-11-27T21:51:14.123Z',\n",
       "  'description': '01-R-randomforest',\n",
       "  'errorDescription': \"ERROR: Column '' was not expected (Line 1, Column 1)\\nERROR: Required column 'Id' could not be found\\n\",\n",
       "  'fileName': 'test_predict.csv',\n",
       "  'privateScore': None,\n",
       "  'publicScore': None,\n",
       "  'ref': 13522371,\n",
       "  'status': 'error',\n",
       "  'submittedBy': 'laurent33',\n",
       "  'submittedByRef': 'laurent33',\n",
       "  'teamName': 'laurent33',\n",
       "  'totalBytes': 26795,\n",
       "  'type': 'standard',\n",
       "  'url': 'https://www.kaggle.com/submissions/13522371/13522371.raw'}]"
      ]
     },
     "execution_count": 13,
     "metadata": {},
     "output_type": "execute_result"
    }
   ],
   "source": [
    "kaggle.api.competitions_submissions_list(competition)"
   ]
  },
  {
   "cell_type": "code",
   "execution_count": null,
   "metadata": {},
   "outputs": [],
   "source": []
  }
 ],
 "metadata": {
  "kernelspec": {
   "display_name": "Python 3",
   "language": "python",
   "name": "python3"
  },
  "language_info": {
   "codemirror_mode": {
    "name": "ipython",
    "version": 3
   },
   "file_extension": ".py",
   "mimetype": "text/x-python",
   "name": "python",
   "nbconvert_exporter": "python",
   "pygments_lexer": "ipython3",
   "version": "3.7.1"
  }
 },
 "nbformat": 4,
 "nbformat_minor": 2
}
