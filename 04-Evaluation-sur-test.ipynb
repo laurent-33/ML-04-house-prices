{
 "cells": [
  {
   "cell_type": "code",
   "execution_count": 107,
   "metadata": {},
   "outputs": [],
   "source": [
    "library(repr)    # for figure size\n",
    "library(randomForest)"
   ]
  },
  {
   "cell_type": "code",
   "execution_count": 108,
   "metadata": {},
   "outputs": [],
   "source": [
    "is.Date <- function(x) inherits(x, 'Date')"
   ]
  },
  {
   "cell_type": "code",
   "execution_count": 109,
   "metadata": {},
   "outputs": [],
   "source": [
    "RF.res <- readRDS(\"model-RF-res.rds\")"
   ]
  },
  {
   "cell_type": "markdown",
   "metadata": {},
   "source": [
    "# Importation du test modifié"
   ]
  },
  {
   "cell_type": "code",
   "execution_count": 133,
   "metadata": {},
   "outputs": [],
   "source": [
    "test <- read.csv('test_modifié.csv', row.names=1)"
   ]
  },
  {
   "cell_type": "markdown",
   "metadata": {},
   "source": [
    "## Remise au format date"
   ]
  },
  {
   "cell_type": "code",
   "execution_count": 130,
   "metadata": {},
   "outputs": [],
   "source": [
    "test$YearBuilt <- as.Date(\n",
    "    ISOdate(test[, 'YearBuilt'], 01, 01), format = \"Y-%m-%d\")\n",
    "test$YearRemodAdd <- as.Date(\n",
    "    ISOdate(test[, 'YearRemodAdd'], 01, 01), format = \"Y-%m-%d\")\n",
    "test$GarageYrBlt <- as.Date(\n",
    "    ISOdate(test[, 'GarageYrBlt'], 01, 01), format = \"Y-%m-%d\")\n",
    "test$YrSold <- as.Date(test[, 'YrSold'], format = \"%Y-%m-%d\")"
   ]
  },
  {
   "cell_type": "code",
   "execution_count": 134,
   "metadata": {},
   "outputs": [
    {
     "data": {
      "text/html": [
       "<table>\n",
       "<caption>A data.frame: 6 × 55</caption>\n",
       "<thead>\n",
       "\t<tr><th></th><th scope=col>MSSubClass</th><th scope=col>MSZoning</th><th scope=col>LotFrontage</th><th scope=col>LotArea</th><th scope=col>Alley</th><th scope=col>LotShape</th><th scope=col>LotConfig</th><th scope=col>Neighborhood</th><th scope=col>Condition1</th><th scope=col>BldgType</th><th scope=col>HouseStyle</th><th scope=col>OverallCond</th><th scope=col>YearBuilt</th><th scope=col>YearRemodAdd</th><th scope=col>RoofStyle</th><th scope=col>RoofMatl</th><th scope=col>Exterior1st</th><th scope=col>Exterior2nd</th><th scope=col>MasVnrType</th><th scope=col>MasVnrArea</th><th scope=col>ExterCond</th><th scope=col>Foundation</th><th scope=col>BsmtQual</th><th scope=col>BsmtExposure</th><th scope=col>BsmtFinType1</th><th scope=col>BsmtFinSF1</th><th scope=col>BsmtUnfSF</th><th scope=col>Heating</th><th scope=col>HeatingQC</th><th scope=col>CentralAir</th><th scope=col>Electrical</th><th scope=col>X1stFlrSF</th><th scope=col>X2ndFlrSF</th><th scope=col>BsmtFullBath</th><th scope=col>BsmtHalfBath</th><th scope=col>FullBath</th><th scope=col>HalfBath</th><th scope=col>BedroomAbvGr</th><th scope=col>KitchenQual</th><th scope=col>TotRmsAbvGrd</th><th scope=col>Fireplaces</th><th scope=col>FireplaceQu</th><th scope=col>GarageType</th><th scope=col>GarageYrBlt</th><th scope=col>GarageFinish</th><th scope=col>GarageArea</th><th scope=col>PavedDrive</th><th scope=col>WoodDeckSF</th><th scope=col>OpenPorchSF</th><th scope=col>PoolQC</th><th scope=col>Fence</th><th scope=col>MiscFeature</th><th scope=col>YrSold</th><th scope=col>SaleType</th><th scope=col>SaleCondition</th></tr>\n",
       "\t<tr><th></th><th scope=col>&lt;int&gt;</th><th scope=col>&lt;fct&gt;</th><th scope=col>&lt;int&gt;</th><th scope=col>&lt;int&gt;</th><th scope=col>&lt;fct&gt;</th><th scope=col>&lt;int&gt;</th><th scope=col>&lt;fct&gt;</th><th scope=col>&lt;fct&gt;</th><th scope=col>&lt;fct&gt;</th><th scope=col>&lt;fct&gt;</th><th scope=col>&lt;fct&gt;</th><th scope=col>&lt;int&gt;</th><th scope=col>&lt;fct&gt;</th><th scope=col>&lt;fct&gt;</th><th scope=col>&lt;fct&gt;</th><th scope=col>&lt;int&gt;</th><th scope=col>&lt;fct&gt;</th><th scope=col>&lt;fct&gt;</th><th scope=col>&lt;fct&gt;</th><th scope=col>&lt;int&gt;</th><th scope=col>&lt;int&gt;</th><th scope=col>&lt;fct&gt;</th><th scope=col>&lt;int&gt;</th><th scope=col>&lt;int&gt;</th><th scope=col>&lt;int&gt;</th><th scope=col>&lt;int&gt;</th><th scope=col>&lt;int&gt;</th><th scope=col>&lt;int&gt;</th><th scope=col>&lt;int&gt;</th><th scope=col>&lt;int&gt;</th><th scope=col>&lt;int&gt;</th><th scope=col>&lt;int&gt;</th><th scope=col>&lt;int&gt;</th><th scope=col>&lt;int&gt;</th><th scope=col>&lt;int&gt;</th><th scope=col>&lt;int&gt;</th><th scope=col>&lt;int&gt;</th><th scope=col>&lt;int&gt;</th><th scope=col>&lt;int&gt;</th><th scope=col>&lt;int&gt;</th><th scope=col>&lt;int&gt;</th><th scope=col>&lt;fct&gt;</th><th scope=col>&lt;fct&gt;</th><th scope=col>&lt;fct&gt;</th><th scope=col>&lt;fct&gt;</th><th scope=col>&lt;int&gt;</th><th scope=col>&lt;int&gt;</th><th scope=col>&lt;int&gt;</th><th scope=col>&lt;int&gt;</th><th scope=col>&lt;fct&gt;</th><th scope=col>&lt;fct&gt;</th><th scope=col>&lt;int&gt;</th><th scope=col>&lt;fct&gt;</th><th scope=col>&lt;fct&gt;</th><th scope=col>&lt;fct&gt;</th></tr>\n",
       "</thead>\n",
       "<tbody>\n",
       "\t<tr><th scope=row>1461</th><td> 20</td><td>RH</td><td>80</td><td>11622</td><td>None</td><td>4</td><td>Inside</td><td>NAmes  </td><td>Feedr</td><td>1Fam  </td><td>1Story</td><td>6</td><td>1961-01-01</td><td>1961-01-01</td><td>Gable</td><td>0</td><td>VinylSd</td><td>VinylSd</td><td>None   </td><td>  0</td><td>3</td><td>CBlock</td><td>3</td><td>1</td><td>3</td><td>468</td><td> 270</td><td>0</td><td>3</td><td>1</td><td>5</td><td> 896</td><td>  0</td><td>0</td><td>0</td><td>1</td><td>0</td><td>2</td><td>3</td><td>5</td><td>0</td><td>None</td><td>Attchd</td><td>1961-01-01</td><td>Unf</td><td>730</td><td>3</td><td>140</td><td> 0</td><td>None</td><td>MnPrv</td><td>0</td><td>2010-06-01</td><td>WD</td><td>Normal</td></tr>\n",
       "\t<tr><th scope=row>1462</th><td> 20</td><td>RL</td><td>81</td><td>14267</td><td>None</td><td>3</td><td>Corner</td><td>NAmes  </td><td>Norm </td><td>1Fam  </td><td>1Story</td><td>6</td><td>1958-01-01</td><td>1958-01-01</td><td>Hip  </td><td>0</td><td>Wd Sdng</td><td>Wd Sdng</td><td>BrkFace</td><td>108</td><td>3</td><td>CBlock</td><td>3</td><td>1</td><td>5</td><td>923</td><td> 406</td><td>0</td><td>3</td><td>1</td><td>5</td><td>1329</td><td>  0</td><td>0</td><td>0</td><td>1</td><td>1</td><td>3</td><td>4</td><td>6</td><td>0</td><td>None</td><td>Attchd</td><td>1958-01-01</td><td>Unf</td><td>312</td><td>3</td><td>393</td><td>36</td><td>None</td><td>None </td><td>1</td><td>2010-06-01</td><td>WD</td><td>Normal</td></tr>\n",
       "\t<tr><th scope=row>1463</th><td> 60</td><td>RL</td><td>74</td><td>13830</td><td>None</td><td>3</td><td>Inside</td><td>Gilbert</td><td>Norm </td><td>1Fam  </td><td>2Story</td><td>5</td><td>1997-01-01</td><td>1998-01-01</td><td>Gable</td><td>0</td><td>VinylSd</td><td>VinylSd</td><td>None   </td><td>  0</td><td>3</td><td>PConc </td><td>4</td><td>1</td><td>6</td><td>791</td><td> 137</td><td>0</td><td>4</td><td>1</td><td>5</td><td> 928</td><td>701</td><td>0</td><td>0</td><td>2</td><td>1</td><td>3</td><td>3</td><td>6</td><td>1</td><td>TA  </td><td>Attchd</td><td>1997-01-01</td><td>Fin</td><td>482</td><td>3</td><td>212</td><td>34</td><td>None</td><td>MnPrv</td><td>0</td><td>2010-03-01</td><td>WD</td><td>Normal</td></tr>\n",
       "\t<tr><th scope=row>1464</th><td> 60</td><td>RL</td><td>78</td><td> 9978</td><td>None</td><td>3</td><td>Inside</td><td>Gilbert</td><td>Norm </td><td>1Fam  </td><td>2Story</td><td>6</td><td>1998-01-01</td><td>1998-01-01</td><td>Gable</td><td>0</td><td>VinylSd</td><td>VinylSd</td><td>BrkFace</td><td> 20</td><td>3</td><td>PConc </td><td>3</td><td>1</td><td>6</td><td>602</td><td> 324</td><td>0</td><td>5</td><td>1</td><td>5</td><td> 926</td><td>678</td><td>0</td><td>0</td><td>2</td><td>1</td><td>3</td><td>4</td><td>7</td><td>1</td><td>Gd  </td><td>Attchd</td><td>1998-01-01</td><td>Fin</td><td>470</td><td>3</td><td>360</td><td>36</td><td>None</td><td>None </td><td>0</td><td>2010-06-01</td><td>WD</td><td>Normal</td></tr>\n",
       "\t<tr><th scope=row>1465</th><td>120</td><td>RL</td><td>43</td><td> 5005</td><td>None</td><td>3</td><td>Inside</td><td>StoneBr</td><td>Norm </td><td>TwnhsE</td><td>1Story</td><td>5</td><td>1992-01-01</td><td>1992-01-01</td><td>Gable</td><td>0</td><td>HdBoard</td><td>HdBoard</td><td>None   </td><td>  0</td><td>3</td><td>PConc </td><td>4</td><td>1</td><td>5</td><td>263</td><td>1017</td><td>0</td><td>5</td><td>1</td><td>5</td><td>1280</td><td>  0</td><td>0</td><td>0</td><td>2</td><td>0</td><td>2</td><td>4</td><td>5</td><td>0</td><td>None</td><td>Attchd</td><td>1992-01-01</td><td>RFn</td><td>506</td><td>3</td><td>  0</td><td>82</td><td>None</td><td>None </td><td>0</td><td>2010-01-01</td><td>WD</td><td>Normal</td></tr>\n",
       "\t<tr><th scope=row>1466</th><td> 60</td><td>RL</td><td>75</td><td>10000</td><td>None</td><td>3</td><td>Corner</td><td>Gilbert</td><td>Norm </td><td>1Fam  </td><td>2Story</td><td>5</td><td>1993-01-01</td><td>1994-01-01</td><td>Gable</td><td>0</td><td>HdBoard</td><td>HdBoard</td><td>None   </td><td>  0</td><td>3</td><td>PConc </td><td>4</td><td>1</td><td>1</td><td>  0</td><td> 763</td><td>0</td><td>4</td><td>1</td><td>5</td><td> 763</td><td>892</td><td>0</td><td>0</td><td>2</td><td>1</td><td>3</td><td>3</td><td>7</td><td>1</td><td>TA  </td><td>Attchd</td><td>1993-01-01</td><td>Fin</td><td>440</td><td>3</td><td>157</td><td>84</td><td>None</td><td>None </td><td>0</td><td>2010-04-01</td><td>WD</td><td>Normal</td></tr>\n",
       "</tbody>\n",
       "</table>\n"
      ],
      "text/latex": [
       "A data.frame: 6 × 55\n",
       "\\begin{tabular}{r|lllllllllllllllllllllllllllllllllllllllllllllllllllllll}\n",
       "  & MSSubClass & MSZoning & LotFrontage & LotArea & Alley & LotShape & LotConfig & Neighborhood & Condition1 & BldgType & HouseStyle & OverallCond & YearBuilt & YearRemodAdd & RoofStyle & RoofMatl & Exterior1st & Exterior2nd & MasVnrType & MasVnrArea & ExterCond & Foundation & BsmtQual & BsmtExposure & BsmtFinType1 & BsmtFinSF1 & BsmtUnfSF & Heating & HeatingQC & CentralAir & Electrical & X1stFlrSF & X2ndFlrSF & BsmtFullBath & BsmtHalfBath & FullBath & HalfBath & BedroomAbvGr & KitchenQual & TotRmsAbvGrd & Fireplaces & FireplaceQu & GarageType & GarageYrBlt & GarageFinish & GarageArea & PavedDrive & WoodDeckSF & OpenPorchSF & PoolQC & Fence & MiscFeature & YrSold & SaleType & SaleCondition\\\\\n",
       "  & <int> & <fct> & <int> & <int> & <fct> & <int> & <fct> & <fct> & <fct> & <fct> & <fct> & <int> & <fct> & <fct> & <fct> & <int> & <fct> & <fct> & <fct> & <int> & <int> & <fct> & <int> & <int> & <int> & <int> & <int> & <int> & <int> & <int> & <int> & <int> & <int> & <int> & <int> & <int> & <int> & <int> & <int> & <int> & <int> & <fct> & <fct> & <fct> & <fct> & <int> & <int> & <int> & <int> & <fct> & <fct> & <int> & <fct> & <fct> & <fct>\\\\\n",
       "\\hline\n",
       "\t1461 &  20 & RH & 80 & 11622 & None & 4 & Inside & NAmes   & Feedr & 1Fam   & 1Story & 6 & 1961-01-01 & 1961-01-01 & Gable & 0 & VinylSd & VinylSd & None    &   0 & 3 & CBlock & 3 & 1 & 3 & 468 &  270 & 0 & 3 & 1 & 5 &  896 &   0 & 0 & 0 & 1 & 0 & 2 & 3 & 5 & 0 & None & Attchd & 1961-01-01 & Unf & 730 & 3 & 140 &  0 & None & MnPrv & 0 & 2010-06-01 & WD & Normal\\\\\n",
       "\t1462 &  20 & RL & 81 & 14267 & None & 3 & Corner & NAmes   & Norm  & 1Fam   & 1Story & 6 & 1958-01-01 & 1958-01-01 & Hip   & 0 & Wd Sdng & Wd Sdng & BrkFace & 108 & 3 & CBlock & 3 & 1 & 5 & 923 &  406 & 0 & 3 & 1 & 5 & 1329 &   0 & 0 & 0 & 1 & 1 & 3 & 4 & 6 & 0 & None & Attchd & 1958-01-01 & Unf & 312 & 3 & 393 & 36 & None & None  & 1 & 2010-06-01 & WD & Normal\\\\\n",
       "\t1463 &  60 & RL & 74 & 13830 & None & 3 & Inside & Gilbert & Norm  & 1Fam   & 2Story & 5 & 1997-01-01 & 1998-01-01 & Gable & 0 & VinylSd & VinylSd & None    &   0 & 3 & PConc  & 4 & 1 & 6 & 791 &  137 & 0 & 4 & 1 & 5 &  928 & 701 & 0 & 0 & 2 & 1 & 3 & 3 & 6 & 1 & TA   & Attchd & 1997-01-01 & Fin & 482 & 3 & 212 & 34 & None & MnPrv & 0 & 2010-03-01 & WD & Normal\\\\\n",
       "\t1464 &  60 & RL & 78 &  9978 & None & 3 & Inside & Gilbert & Norm  & 1Fam   & 2Story & 6 & 1998-01-01 & 1998-01-01 & Gable & 0 & VinylSd & VinylSd & BrkFace &  20 & 3 & PConc  & 3 & 1 & 6 & 602 &  324 & 0 & 5 & 1 & 5 &  926 & 678 & 0 & 0 & 2 & 1 & 3 & 4 & 7 & 1 & Gd   & Attchd & 1998-01-01 & Fin & 470 & 3 & 360 & 36 & None & None  & 0 & 2010-06-01 & WD & Normal\\\\\n",
       "\t1465 & 120 & RL & 43 &  5005 & None & 3 & Inside & StoneBr & Norm  & TwnhsE & 1Story & 5 & 1992-01-01 & 1992-01-01 & Gable & 0 & HdBoard & HdBoard & None    &   0 & 3 & PConc  & 4 & 1 & 5 & 263 & 1017 & 0 & 5 & 1 & 5 & 1280 &   0 & 0 & 0 & 2 & 0 & 2 & 4 & 5 & 0 & None & Attchd & 1992-01-01 & RFn & 506 & 3 &   0 & 82 & None & None  & 0 & 2010-01-01 & WD & Normal\\\\\n",
       "\t1466 &  60 & RL & 75 & 10000 & None & 3 & Corner & Gilbert & Norm  & 1Fam   & 2Story & 5 & 1993-01-01 & 1994-01-01 & Gable & 0 & HdBoard & HdBoard & None    &   0 & 3 & PConc  & 4 & 1 & 1 &   0 &  763 & 0 & 4 & 1 & 5 &  763 & 892 & 0 & 0 & 2 & 1 & 3 & 3 & 7 & 1 & TA   & Attchd & 1993-01-01 & Fin & 440 & 3 & 157 & 84 & None & None  & 0 & 2010-04-01 & WD & Normal\\\\\n",
       "\\end{tabular}\n"
      ],
      "text/markdown": [
       "\n",
       "A data.frame: 6 × 55\n",
       "\n",
       "| <!--/--> | MSSubClass &lt;int&gt; | MSZoning &lt;fct&gt; | LotFrontage &lt;int&gt; | LotArea &lt;int&gt; | Alley &lt;fct&gt; | LotShape &lt;int&gt; | LotConfig &lt;fct&gt; | Neighborhood &lt;fct&gt; | Condition1 &lt;fct&gt; | BldgType &lt;fct&gt; | HouseStyle &lt;fct&gt; | OverallCond &lt;int&gt; | YearBuilt &lt;fct&gt; | YearRemodAdd &lt;fct&gt; | RoofStyle &lt;fct&gt; | RoofMatl &lt;int&gt; | Exterior1st &lt;fct&gt; | Exterior2nd &lt;fct&gt; | MasVnrType &lt;fct&gt; | MasVnrArea &lt;int&gt; | ExterCond &lt;int&gt; | Foundation &lt;fct&gt; | BsmtQual &lt;int&gt; | BsmtExposure &lt;int&gt; | BsmtFinType1 &lt;int&gt; | BsmtFinSF1 &lt;int&gt; | BsmtUnfSF &lt;int&gt; | Heating &lt;int&gt; | HeatingQC &lt;int&gt; | CentralAir &lt;int&gt; | Electrical &lt;int&gt; | X1stFlrSF &lt;int&gt; | X2ndFlrSF &lt;int&gt; | BsmtFullBath &lt;int&gt; | BsmtHalfBath &lt;int&gt; | FullBath &lt;int&gt; | HalfBath &lt;int&gt; | BedroomAbvGr &lt;int&gt; | KitchenQual &lt;int&gt; | TotRmsAbvGrd &lt;int&gt; | Fireplaces &lt;int&gt; | FireplaceQu &lt;fct&gt; | GarageType &lt;fct&gt; | GarageYrBlt &lt;fct&gt; | GarageFinish &lt;fct&gt; | GarageArea &lt;int&gt; | PavedDrive &lt;int&gt; | WoodDeckSF &lt;int&gt; | OpenPorchSF &lt;int&gt; | PoolQC &lt;fct&gt; | Fence &lt;fct&gt; | MiscFeature &lt;int&gt; | YrSold &lt;fct&gt; | SaleType &lt;fct&gt; | SaleCondition &lt;fct&gt; |\n",
       "|---|---|---|---|---|---|---|---|---|---|---|---|---|---|---|---|---|---|---|---|---|---|---|---|---|---|---|---|---|---|---|---|---|---|---|---|---|---|---|---|---|---|---|---|---|---|---|---|---|---|---|---|---|---|---|---|\n",
       "| 1461 |  20 | RH | 80 | 11622 | None | 4 | Inside | NAmes   | Feedr | 1Fam   | 1Story | 6 | 1961-01-01 | 1961-01-01 | Gable | 0 | VinylSd | VinylSd | None    |   0 | 3 | CBlock | 3 | 1 | 3 | 468 |  270 | 0 | 3 | 1 | 5 |  896 |   0 | 0 | 0 | 1 | 0 | 2 | 3 | 5 | 0 | None | Attchd | 1961-01-01 | Unf | 730 | 3 | 140 |  0 | None | MnPrv | 0 | 2010-06-01 | WD | Normal |\n",
       "| 1462 |  20 | RL | 81 | 14267 | None | 3 | Corner | NAmes   | Norm  | 1Fam   | 1Story | 6 | 1958-01-01 | 1958-01-01 | Hip   | 0 | Wd Sdng | Wd Sdng | BrkFace | 108 | 3 | CBlock | 3 | 1 | 5 | 923 |  406 | 0 | 3 | 1 | 5 | 1329 |   0 | 0 | 0 | 1 | 1 | 3 | 4 | 6 | 0 | None | Attchd | 1958-01-01 | Unf | 312 | 3 | 393 | 36 | None | None  | 1 | 2010-06-01 | WD | Normal |\n",
       "| 1463 |  60 | RL | 74 | 13830 | None | 3 | Inside | Gilbert | Norm  | 1Fam   | 2Story | 5 | 1997-01-01 | 1998-01-01 | Gable | 0 | VinylSd | VinylSd | None    |   0 | 3 | PConc  | 4 | 1 | 6 | 791 |  137 | 0 | 4 | 1 | 5 |  928 | 701 | 0 | 0 | 2 | 1 | 3 | 3 | 6 | 1 | TA   | Attchd | 1997-01-01 | Fin | 482 | 3 | 212 | 34 | None | MnPrv | 0 | 2010-03-01 | WD | Normal |\n",
       "| 1464 |  60 | RL | 78 |  9978 | None | 3 | Inside | Gilbert | Norm  | 1Fam   | 2Story | 6 | 1998-01-01 | 1998-01-01 | Gable | 0 | VinylSd | VinylSd | BrkFace |  20 | 3 | PConc  | 3 | 1 | 6 | 602 |  324 | 0 | 5 | 1 | 5 |  926 | 678 | 0 | 0 | 2 | 1 | 3 | 4 | 7 | 1 | Gd   | Attchd | 1998-01-01 | Fin | 470 | 3 | 360 | 36 | None | None  | 0 | 2010-06-01 | WD | Normal |\n",
       "| 1465 | 120 | RL | 43 |  5005 | None | 3 | Inside | StoneBr | Norm  | TwnhsE | 1Story | 5 | 1992-01-01 | 1992-01-01 | Gable | 0 | HdBoard | HdBoard | None    |   0 | 3 | PConc  | 4 | 1 | 5 | 263 | 1017 | 0 | 5 | 1 | 5 | 1280 |   0 | 0 | 0 | 2 | 0 | 2 | 4 | 5 | 0 | None | Attchd | 1992-01-01 | RFn | 506 | 3 |   0 | 82 | None | None  | 0 | 2010-01-01 | WD | Normal |\n",
       "| 1466 |  60 | RL | 75 | 10000 | None | 3 | Corner | Gilbert | Norm  | 1Fam   | 2Story | 5 | 1993-01-01 | 1994-01-01 | Gable | 0 | HdBoard | HdBoard | None    |   0 | 3 | PConc  | 4 | 1 | 1 |   0 |  763 | 0 | 4 | 1 | 5 |  763 | 892 | 0 | 0 | 2 | 1 | 3 | 3 | 7 | 1 | TA   | Attchd | 1993-01-01 | Fin | 440 | 3 | 157 | 84 | None | None  | 0 | 2010-04-01 | WD | Normal |\n",
       "\n"
      ],
      "text/plain": [
       "     MSSubClass MSZoning LotFrontage LotArea Alley LotShape LotConfig\n",
       "1461  20        RH       80          11622   None  4        Inside   \n",
       "1462  20        RL       81          14267   None  3        Corner   \n",
       "1463  60        RL       74          13830   None  3        Inside   \n",
       "1464  60        RL       78           9978   None  3        Inside   \n",
       "1465 120        RL       43           5005   None  3        Inside   \n",
       "1466  60        RL       75          10000   None  3        Corner   \n",
       "     Neighborhood Condition1 BldgType HouseStyle OverallCond YearBuilt \n",
       "1461 NAmes        Feedr      1Fam     1Story     6           1961-01-01\n",
       "1462 NAmes        Norm       1Fam     1Story     6           1958-01-01\n",
       "1463 Gilbert      Norm       1Fam     2Story     5           1997-01-01\n",
       "1464 Gilbert      Norm       1Fam     2Story     6           1998-01-01\n",
       "1465 StoneBr      Norm       TwnhsE   1Story     5           1992-01-01\n",
       "1466 Gilbert      Norm       1Fam     2Story     5           1993-01-01\n",
       "     YearRemodAdd RoofStyle RoofMatl Exterior1st Exterior2nd MasVnrType\n",
       "1461 1961-01-01   Gable     0        VinylSd     VinylSd     None      \n",
       "1462 1958-01-01   Hip       0        Wd Sdng     Wd Sdng     BrkFace   \n",
       "1463 1998-01-01   Gable     0        VinylSd     VinylSd     None      \n",
       "1464 1998-01-01   Gable     0        VinylSd     VinylSd     BrkFace   \n",
       "1465 1992-01-01   Gable     0        HdBoard     HdBoard     None      \n",
       "1466 1994-01-01   Gable     0        HdBoard     HdBoard     None      \n",
       "     MasVnrArea ExterCond Foundation BsmtQual BsmtExposure BsmtFinType1\n",
       "1461   0        3         CBlock     3        1            3           \n",
       "1462 108        3         CBlock     3        1            5           \n",
       "1463   0        3         PConc      4        1            6           \n",
       "1464  20        3         PConc      3        1            6           \n",
       "1465   0        3         PConc      4        1            5           \n",
       "1466   0        3         PConc      4        1            1           \n",
       "     BsmtFinSF1 BsmtUnfSF Heating HeatingQC CentralAir Electrical X1stFlrSF\n",
       "1461 468         270      0       3         1          5           896     \n",
       "1462 923         406      0       3         1          5          1329     \n",
       "1463 791         137      0       4         1          5           928     \n",
       "1464 602         324      0       5         1          5           926     \n",
       "1465 263        1017      0       5         1          5          1280     \n",
       "1466   0         763      0       4         1          5           763     \n",
       "     X2ndFlrSF BsmtFullBath BsmtHalfBath FullBath HalfBath BedroomAbvGr\n",
       "1461   0       0            0            1        0        2           \n",
       "1462   0       0            0            1        1        3           \n",
       "1463 701       0            0            2        1        3           \n",
       "1464 678       0            0            2        1        3           \n",
       "1465   0       0            0            2        0        2           \n",
       "1466 892       0            0            2        1        3           \n",
       "     KitchenQual TotRmsAbvGrd Fireplaces FireplaceQu GarageType GarageYrBlt\n",
       "1461 3           5            0          None        Attchd     1961-01-01 \n",
       "1462 4           6            0          None        Attchd     1958-01-01 \n",
       "1463 3           6            1          TA          Attchd     1997-01-01 \n",
       "1464 4           7            1          Gd          Attchd     1998-01-01 \n",
       "1465 4           5            0          None        Attchd     1992-01-01 \n",
       "1466 3           7            1          TA          Attchd     1993-01-01 \n",
       "     GarageFinish GarageArea PavedDrive WoodDeckSF OpenPorchSF PoolQC Fence\n",
       "1461 Unf          730        3          140         0          None   MnPrv\n",
       "1462 Unf          312        3          393        36          None   None \n",
       "1463 Fin          482        3          212        34          None   MnPrv\n",
       "1464 Fin          470        3          360        36          None   None \n",
       "1465 RFn          506        3            0        82          None   None \n",
       "1466 Fin          440        3          157        84          None   None \n",
       "     MiscFeature YrSold     SaleType SaleCondition\n",
       "1461 0           2010-06-01 WD       Normal       \n",
       "1462 1           2010-06-01 WD       Normal       \n",
       "1463 0           2010-03-01 WD       Normal       \n",
       "1464 0           2010-06-01 WD       Normal       \n",
       "1465 0           2010-01-01 WD       Normal       \n",
       "1466 0           2010-04-01 WD       Normal       "
      ]
     },
     "metadata": {},
     "output_type": "display_data"
    }
   ],
   "source": [
    "options(repr.matrix.max.cols=200)\n",
    "head(test)"
   ]
  },
  {
   "cell_type": "code",
   "execution_count": 113,
   "metadata": {},
   "outputs": [
    {
     "data": {
      "text/html": [
       "<ol class=list-inline>\n",
       "\t<li>1152</li>\n",
       "\t<li>55</li>\n",
       "</ol>\n"
      ],
      "text/latex": [
       "\\begin{enumerate*}\n",
       "\\item 1152\n",
       "\\item 55\n",
       "\\end{enumerate*}\n"
      ],
      "text/markdown": [
       "1. 1152\n",
       "2. 55\n",
       "\n",
       "\n"
      ],
      "text/plain": [
       "[1] 1152   55"
      ]
     },
     "metadata": {},
     "output_type": "display_data"
    }
   ],
   "source": [
    "dim(test)"
   ]
  },
  {
   "cell_type": "markdown",
   "metadata": {},
   "source": [
    "## Complément des modalités manquantes dans le set\n",
    "- => doit avoir même modalités que le setde train utilisé pour entrâiner le modèle"
   ]
  },
  {
   "cell_type": "code",
   "execution_count": 114,
   "metadata": {},
   "outputs": [],
   "source": [
    "levels(test$Exterior1st) <- c(levels(test$Exterior1st), 'AsbShng', 'AsphShn', 'BrkComm', 'BrkFace', 'CBlock', 'CemntBd', 'HdBoard', 'ImStucc', 'MetalSd', 'Other', 'Plywood', 'PreCast', 'Stone', 'Stucco', 'VinylSd', 'Wd Sdng', 'WdShing')\n",
    "levels(test$Exterior2nd) <- c(levels(test$Exterior2nd), 'AsbShng', 'AsphShn', 'BrkComm', 'BrkFace', 'CBlock', 'CemntBd', 'HdBoard', 'ImStucc', 'MetalSd', 'Other', 'Plywood', 'PreCast', 'Stone', 'Stucco', 'VinylSd', 'Wd Sdng', 'WdShing')\n",
    "levels(test$Foundation) <- c(levels(test$Foundation), 'BrkTil', 'CBlock', 'PConc', 'Slab', 'Stone', 'Wood')\n",
    "levels(test$GarageType) <- c(levels(test$GarageType), '2Types', 'Attchd', 'Basment', 'BuiltIn', 'CarPort', 'Detchd')\n",
    "levels(test$LotConfig) <- c(levels(test$LotConfig), 'Inside', 'Corner', 'CulDSac', 'FR2', 'FR3')\n",
    "levels(test$MasVnrType) <- c(levels(test$MasVnrType), 'BrkCmn', 'BrkFace', 'CBlock', 'None', 'Stone')\n",
    "levels(test$MSZoning) <- c(levels(test$MSZoning), 'A', 'C', 'FV', 'I', 'RH', 'RL', 'RP', 'RM')\n",
    "levels(test$PoolQC) <- c(levels(test$PoolQC), 'Po', 'Fa', 'TA', 'Gd', 'Ex')\n",
    "levels(test$RoofStyle) <- c(levels(test$RoofStyle), 'Flat', 'Gable', 'Gambrel', 'Hip', 'Mansard', 'Shed')\n",
    "levels(test$SaleCondition) <- c(levels(test$SaleCondition), 'Normal', 'Abnorml', 'AdjLand', 'Alloca', 'Family', 'Partial')\n",
    "levels(test$SaleType) <- c(levels(test$SaleType), 'WD ', 'CWD', 'VWD', 'New', 'COD', 'Con', 'ConLw', 'ConLI', 'ConLD', 'Oth')\n",
    "levels(test$HouseStyle) <- c(levels(test$HouseStyle), '1Story', '1.5Fin', '1.5Unf', '2Story', '2.5Fin', '2.5Unf', 'SFoyer', 'SLvl')"
   ]
  },
  {
   "cell_type": "markdown",
   "metadata": {},
   "source": [
    "# Génération des prédictions sur test et mise au format"
   ]
  },
  {
   "cell_type": "code",
   "execution_count": 115,
   "metadata": {},
   "outputs": [],
   "source": [
    "RF.test.preds <- predict(RF.res, test)"
   ]
  },
  {
   "cell_type": "code",
   "execution_count": 142,
   "metadata": {},
   "outputs": [
    {
     "data": {
      "text/html": [
       "'data.frame'"
      ],
      "text/latex": [
       "'data.frame'"
      ],
      "text/markdown": [
       "'data.frame'"
      ],
      "text/plain": [
       "[1] \"data.frame\""
      ]
     },
     "metadata": {},
     "output_type": "display_data"
    }
   ],
   "source": [
    "class(test)"
   ]
  },
  {
   "cell_type": "code",
   "execution_count": 118,
   "metadata": {},
   "outputs": [
    {
     "data": {
      "text/html": [
       "'numeric'"
      ],
      "text/latex": [
       "'numeric'"
      ],
      "text/markdown": [
       "'numeric'"
      ],
      "text/plain": [
       "[1] \"numeric\""
      ]
     },
     "metadata": {},
     "output_type": "display_data"
    }
   ],
   "source": [
    "class(RF.test.preds)"
   ]
  },
  {
   "cell_type": "code",
   "execution_count": 145,
   "metadata": {},
   "outputs": [],
   "source": [
    "RF.test.preds.df <- as.data.frame(RF.test.preds)"
   ]
  },
  {
   "cell_type": "code",
   "execution_count": 146,
   "metadata": {},
   "outputs": [],
   "source": [
    "RF.test.preds.df <- data.frame(row.names(RF.test.preds.df), RF.test.preds.df)"
   ]
  },
  {
   "cell_type": "code",
   "execution_count": 147,
   "metadata": {},
   "outputs": [
    {
     "data": {
      "text/html": [
       "<table>\n",
       "<caption>A data.frame: 6 × 2</caption>\n",
       "<thead>\n",
       "\t<tr><th></th><th scope=col>Id</th><th scope=col>SalePrice</th></tr>\n",
       "\t<tr><th></th><th scope=col>&lt;fct&gt;</th><th scope=col>&lt;dbl&gt;</th></tr>\n",
       "</thead>\n",
       "<tbody>\n",
       "\t<tr><th scope=row>1461</th><td>1461</td><td>131863.3</td></tr>\n",
       "\t<tr><th scope=row>1462</th><td>1462</td><td>156554.8</td></tr>\n",
       "\t<tr><th scope=row>1463</th><td>1463</td><td>191078.4</td></tr>\n",
       "\t<tr><th scope=row>1464</th><td>1464</td><td>194501.6</td></tr>\n",
       "\t<tr><th scope=row>1465</th><td>1465</td><td>190959.3</td></tr>\n",
       "\t<tr><th scope=row>1466</th><td>1466</td><td>196478.7</td></tr>\n",
       "</tbody>\n",
       "</table>\n"
      ],
      "text/latex": [
       "A data.frame: 6 × 2\n",
       "\\begin{tabular}{r|ll}\n",
       "  & Id & SalePrice\\\\\n",
       "  & <fct> & <dbl>\\\\\n",
       "\\hline\n",
       "\t1461 & 1461 & 131863.3\\\\\n",
       "\t1462 & 1462 & 156554.8\\\\\n",
       "\t1463 & 1463 & 191078.4\\\\\n",
       "\t1464 & 1464 & 194501.6\\\\\n",
       "\t1465 & 1465 & 190959.3\\\\\n",
       "\t1466 & 1466 & 196478.7\\\\\n",
       "\\end{tabular}\n"
      ],
      "text/markdown": [
       "\n",
       "A data.frame: 6 × 2\n",
       "\n",
       "| <!--/--> | Id &lt;fct&gt; | SalePrice &lt;dbl&gt; |\n",
       "|---|---|---|\n",
       "| 1461 | 1461 | 131863.3 |\n",
       "| 1462 | 1462 | 156554.8 |\n",
       "| 1463 | 1463 | 191078.4 |\n",
       "| 1464 | 1464 | 194501.6 |\n",
       "| 1465 | 1465 | 190959.3 |\n",
       "| 1466 | 1466 | 196478.7 |\n",
       "\n"
      ],
      "text/plain": [
       "     Id   SalePrice\n",
       "1461 1461 131863.3 \n",
       "1462 1462 156554.8 \n",
       "1463 1463 191078.4 \n",
       "1464 1464 194501.6 \n",
       "1465 1465 190959.3 \n",
       "1466 1466 196478.7 "
      ]
     },
     "metadata": {},
     "output_type": "display_data"
    }
   ],
   "source": [
    "names(RF.test.preds.df) <- c('Id', 'SalePrice')\n",
    "head(RF.test.preds.df)"
   ]
  },
  {
   "cell_type": "code",
   "execution_count": 150,
   "metadata": {},
   "outputs": [
    {
     "data": {
      "text/html": [
       "<ol class=list-inline>\n",
       "\t<li>1237</li>\n",
       "\t<li>1709</li>\n",
       "\t<li>1974</li>\n",
       "\t<li>2042</li>\n",
       "</ol>\n"
      ],
      "text/latex": [
       "\\begin{enumerate*}\n",
       "\\item 1237\n",
       "\\item 1709\n",
       "\\item 1974\n",
       "\\item 2042\n",
       "\\end{enumerate*}\n"
      ],
      "text/markdown": [
       "1. 1237\n",
       "2. 1709\n",
       "3. 1974\n",
       "4. 2042\n",
       "\n",
       "\n"
      ],
      "text/plain": [
       "[1] 1237 1709 1974 2042"
      ]
     },
     "metadata": {},
     "output_type": "display_data"
    }
   ],
   "source": [
    "which(is.na(RF.test.preds.df))"
   ]
  },
  {
   "cell_type": "markdown",
   "metadata": {},
   "source": [
    "# Exportation du résultat avec les prédictions"
   ]
  },
  {
   "cell_type": "code",
   "execution_count": 148,
   "metadata": {},
   "outputs": [],
   "source": [
    "write.csv(RF.test.preds.df, 'test_predict.csv', row.names=F)"
   ]
  },
  {
   "cell_type": "code",
   "execution_count": null,
   "metadata": {},
   "outputs": [],
   "source": []
  }
 ],
 "metadata": {
  "kernelspec": {
   "display_name": "R",
   "language": "R",
   "name": "ir"
  },
  "language_info": {
   "codemirror_mode": "r",
   "file_extension": ".r",
   "mimetype": "text/x-r-source",
   "name": "R",
   "pygments_lexer": "r",
   "version": "3.6.1"
  },
  "toc": {
   "base_numbering": 1,
   "nav_menu": {},
   "number_sections": true,
   "sideBar": true,
   "skip_h1_title": false,
   "title_cell": "Table of Contents",
   "title_sidebar": "Contents",
   "toc_cell": false,
   "toc_position": {
    "height": "calc(100% - 180px)",
    "left": "10px",
    "top": "150px",
    "width": "218.533px"
   },
   "toc_section_display": true,
   "toc_window_display": true
  }
 },
 "nbformat": 4,
 "nbformat_minor": 2
}
